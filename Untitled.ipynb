{
 "cells": [
  {
   "cell_type": "code",
   "execution_count": 2,
   "metadata": {},
   "outputs": [],
   "source": [
    "import speech_recognition as sr\n",
    "import pyaudio\n",
    "import webbrowser as wb"
   ]
  },
  {
   "cell_type": "code",
   "execution_count": 3,
   "metadata": {},
   "outputs": [
    {
     "name": "stdout",
     "output_type": "stream",
     "text": [
      "[search Google : search Youtube]\n",
      "Speak Now!!\n",
      "Search for video\n",
      "Couldn't understand\n"
     ]
    }
   ],
   "source": [
    "r1 = sr.Recognizer()\n",
    "r2 = sr.Recognizer()\n",
    "r3 = sr.Recognizer()\n",
    "\n",
    "with sr.Microphone() as source:\n",
    "  print(\"[search Google : search Youtube]\")\n",
    "  print(\"Speak Now!!\")\n",
    "  audio = r3.listen(source)\n",
    "\n",
    "if 'video' in r1.recognize_google(audio):\n",
    "  r1 = sr.Recognizer()\n",
    "  url = 'https://www.youtube.com/results?search_query='\n",
    "  with sr.Microphone() as source:\n",
    "    print(\"Search for video\")\n",
    "    audio = r1.listen(source)\n",
    "  \n",
    "    try:\n",
    "      get = r1.recognize_google(audio)\n",
    "      print(get)\n",
    "      wb.get().open_new(url+get)\n",
    "    except sr.UnknownValueError:\n",
    "      print(\"Couldn't understand\")\n",
    "    except sr.RequestError as e:\n",
    "      print(\"Failed to get results\".format(e))"
   ]
  },
  {
   "cell_type": "code",
   "execution_count": null,
   "metadata": {},
   "outputs": [],
   "source": []
  }
 ],
 "metadata": {
  "kernelspec": {
   "display_name": "Python 3",
   "language": "python",
   "name": "python3"
  },
  "language_info": {
   "codemirror_mode": {
    "name": "ipython",
    "version": 3
   },
   "file_extension": ".py",
   "mimetype": "text/x-python",
   "name": "python",
   "nbconvert_exporter": "python",
   "pygments_lexer": "ipython3",
   "version": "3.8.5"
  }
 },
 "nbformat": 4,
 "nbformat_minor": 4
}
